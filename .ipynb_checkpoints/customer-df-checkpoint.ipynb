{
 "cells": [
  {
   "cell_type": "code",
   "execution_count": 104,
   "id": "a052c4af",
   "metadata": {},
   "outputs": [],
   "source": [
    "# Ecommerce Fraud Data\n",
    "# Pertemuan ke-37\n",
    "# Willi Sianturi\n",
    "# 25 Mei 2022\n",
    "\n",
    "from sklearn.model_selection import train_test_split\n",
    "from sklearn.neighbors import KNeighborsClassifier as knn\n",
    "from sklearn import datasets\n",
    "from sklearn import metrics\n",
    "from sklearn.preprocessing import MinMaxScaler\n",
    "import pandas as pd"
   ]
  },
  {
   "cell_type": "code",
   "execution_count": 105,
   "id": "d697bbef",
   "metadata": {},
   "outputs": [],
   "source": [
    "df = pd.read_csv(\"D:/myproject/dataset/Customer_DF.csv\")"
   ]
  },
  {
   "cell_type": "code",
   "execution_count": 106,
   "id": "a705639d",
   "metadata": {},
   "outputs": [],
   "source": [
    "def to_int(data):\n",
    "    if data: return 1\n",
    "    else: return 0\n",
    "\n",
    "df['IsFraud'] = df['Fraud'].apply(to_int)"
   ]
  },
  {
   "cell_type": "code",
   "execution_count": 107,
   "id": "2cf59093",
   "metadata": {},
   "outputs": [
    {
     "data": {
      "text/plain": [
       "Index(['Unnamed: 0', 'customerEmail', 'customerPhone', 'customerDevice',\n",
       "       'customerIPAddress', 'customerBillingAddress', 'No_Transactions',\n",
       "       'No_Orders', 'No_Payments', 'Fraud', 'IsFraud'],\n",
       "      dtype='object')"
      ]
     },
     "execution_count": 107,
     "metadata": {},
     "output_type": "execute_result"
    }
   ],
   "source": [
    "df.columns"
   ]
  },
  {
   "cell_type": "code",
   "execution_count": 108,
   "id": "c51988e9",
   "metadata": {},
   "outputs": [],
   "source": [
    "scaler = MinMaxScaler()\n",
    "scaler.fit(df[['No_Transactions']])\n",
    "df['No_Transactions'] = scaler.transform(df[['No_Transactions']])"
   ]
  },
  {
   "cell_type": "code",
   "execution_count": 109,
   "id": "6e461ff9",
   "metadata": {},
   "outputs": [],
   "source": [
    "scaler.fit(df[['No_Orders']])\n",
    "df['No_Orders'] = scaler.transform(df[['No_Orders']])\n",
    "\n",
    "scaler.fit(df[['No_Payments']])\n",
    "df['No_Payments'] = scaler.transform(df[['No_Payments']])"
   ]
  },
  {
   "cell_type": "code",
   "execution_count": 110,
   "id": "5fc359fa",
   "metadata": {},
   "outputs": [
    {
     "data": {
      "text/html": [
       "<div>\n",
       "<style scoped>\n",
       "    .dataframe tbody tr th:only-of-type {\n",
       "        vertical-align: middle;\n",
       "    }\n",
       "\n",
       "    .dataframe tbody tr th {\n",
       "        vertical-align: top;\n",
       "    }\n",
       "\n",
       "    .dataframe thead th {\n",
       "        text-align: right;\n",
       "    }\n",
       "</style>\n",
       "<table border=\"1\" class=\"dataframe\">\n",
       "  <thead>\n",
       "    <tr style=\"text-align: right;\">\n",
       "      <th></th>\n",
       "      <th>Unnamed: 0</th>\n",
       "      <th>customerEmail</th>\n",
       "      <th>customerPhone</th>\n",
       "      <th>customerDevice</th>\n",
       "      <th>customerIPAddress</th>\n",
       "      <th>customerBillingAddress</th>\n",
       "      <th>No_Transactions</th>\n",
       "      <th>No_Orders</th>\n",
       "      <th>No_Payments</th>\n",
       "      <th>Fraud</th>\n",
       "      <th>IsFraud</th>\n",
       "    </tr>\n",
       "  </thead>\n",
       "  <tbody>\n",
       "    <tr>\n",
       "      <th>0</th>\n",
       "      <td>0</td>\n",
       "      <td>josephhoward@yahoo.com</td>\n",
       "      <td>400-108-5415</td>\n",
       "      <td>yyeiaxpltf82440jnb3v</td>\n",
       "      <td>8.129.104.40</td>\n",
       "      <td>5493 Jones Islands\\nBrownside, CA 51896</td>\n",
       "      <td>0.133333</td>\n",
       "      <td>0.250</td>\n",
       "      <td>0.066667</td>\n",
       "      <td>False</td>\n",
       "      <td>0</td>\n",
       "    </tr>\n",
       "    <tr>\n",
       "      <th>1</th>\n",
       "      <td>1</td>\n",
       "      <td>evansjeffery@yahoo.com</td>\n",
       "      <td>1-788-091-7546</td>\n",
       "      <td>r0jpm7xaeqqa3kr6mzum</td>\n",
       "      <td>219.173.211.202</td>\n",
       "      <td>356 Elizabeth Inlet Suite 120\\nPort Joshuabury...</td>\n",
       "      <td>0.200000</td>\n",
       "      <td>0.375</td>\n",
       "      <td>0.466667</td>\n",
       "      <td>True</td>\n",
       "      <td>1</td>\n",
       "    </tr>\n",
       "    <tr>\n",
       "      <th>2</th>\n",
       "      <td>2</td>\n",
       "      <td>andersonwilliam@yahoo.com</td>\n",
       "      <td>024.420.0375</td>\n",
       "      <td>4m7h5ipl1shyavt6vv2r</td>\n",
       "      <td>67b7:3db8:67e0:3bea:b9d0:90c1:2b60:b9f0</td>\n",
       "      <td>8478 Sean Ridges Apt. 441\\nDavisberg, PR 72250</td>\n",
       "      <td>0.333333</td>\n",
       "      <td>0.375</td>\n",
       "      <td>0.133333</td>\n",
       "      <td>False</td>\n",
       "      <td>0</td>\n",
       "    </tr>\n",
       "    <tr>\n",
       "      <th>3</th>\n",
       "      <td>3</td>\n",
       "      <td>rubenjuarez@yahoo.com</td>\n",
       "      <td>670.664.8168x94985</td>\n",
       "      <td>slovx60t0i558may4ks0</td>\n",
       "      <td>95de:8565:5a66:792c:26e0:6cfb:7d87:11af</td>\n",
       "      <td>7769 Elizabeth Bridge Apt. 343\\nNortonstad, FM...</td>\n",
       "      <td>0.200000</td>\n",
       "      <td>0.375</td>\n",
       "      <td>0.066667</td>\n",
       "      <td>False</td>\n",
       "      <td>0</td>\n",
       "    </tr>\n",
       "    <tr>\n",
       "      <th>4</th>\n",
       "      <td>4</td>\n",
       "      <td>uchen@malone.com</td>\n",
       "      <td>1-981-877-0870</td>\n",
       "      <td>j0pd24k5h8dl2fqu0cz4</td>\n",
       "      <td>196.89.235.192</td>\n",
       "      <td>148 Russell Lodge Apt. 445\\nPort Jenniferside,...</td>\n",
       "      <td>0.466667</td>\n",
       "      <td>0.875</td>\n",
       "      <td>0.400000</td>\n",
       "      <td>True</td>\n",
       "      <td>1</td>\n",
       "    </tr>\n",
       "    <tr>\n",
       "      <th>...</th>\n",
       "      <td>...</td>\n",
       "      <td>...</td>\n",
       "      <td>...</td>\n",
       "      <td>...</td>\n",
       "      <td>...</td>\n",
       "      <td>...</td>\n",
       "      <td>...</td>\n",
       "      <td>...</td>\n",
       "      <td>...</td>\n",
       "      <td>...</td>\n",
       "      <td>...</td>\n",
       "    </tr>\n",
       "    <tr>\n",
       "      <th>163</th>\n",
       "      <td>163</td>\n",
       "      <td>mitchellvickie@brewer-jones.com</td>\n",
       "      <td>313-124-3836x3528</td>\n",
       "      <td>ecu7ezz0ue67v3fce1o3</td>\n",
       "      <td>181.90.104.120</td>\n",
       "      <td>829 Ramirez Dam Suite 648\\nGatesview, OR 55669...</td>\n",
       "      <td>0.200000</td>\n",
       "      <td>0.375</td>\n",
       "      <td>0.066667</td>\n",
       "      <td>True</td>\n",
       "      <td>1</td>\n",
       "    </tr>\n",
       "    <tr>\n",
       "      <th>164</th>\n",
       "      <td>164</td>\n",
       "      <td>sbrown@hughes.biz</td>\n",
       "      <td>(250)632-6631x02499</td>\n",
       "      <td>xgv918sclaz40qlp2fee</td>\n",
       "      <td>16.166.2.0</td>\n",
       "      <td>9472 Pacheco Islands Suite 940\\nDrewburgh, AZ ...</td>\n",
       "      <td>0.400000</td>\n",
       "      <td>0.625</td>\n",
       "      <td>0.200000</td>\n",
       "      <td>True</td>\n",
       "      <td>1</td>\n",
       "    </tr>\n",
       "    <tr>\n",
       "      <th>165</th>\n",
       "      <td>165</td>\n",
       "      <td>johnlowery@gmail.com</td>\n",
       "      <td>635.676.0955x524</td>\n",
       "      <td>969zz9zdj8z4gns4sx5p</td>\n",
       "      <td>f82c:811f:8a02:e2d6:79b:fcaa:42de:570b</td>\n",
       "      <td>548 Bryant Inlet\\nVeronicaside, OK 00522</td>\n",
       "      <td>0.266667</td>\n",
       "      <td>0.500</td>\n",
       "      <td>0.133333</td>\n",
       "      <td>True</td>\n",
       "      <td>1</td>\n",
       "    </tr>\n",
       "    <tr>\n",
       "      <th>166</th>\n",
       "      <td>166</td>\n",
       "      <td>ethompson@jackson-sanders.com</td>\n",
       "      <td>962.300.2250</td>\n",
       "      <td>navessqcnmc9csfjn5cj</td>\n",
       "      <td>203.246.172.244</td>\n",
       "      <td>16953 Jennifer Springs\\nKathybury, IL 02095-3215</td>\n",
       "      <td>0.533333</td>\n",
       "      <td>0.750</td>\n",
       "      <td>0.400000</td>\n",
       "      <td>True</td>\n",
       "      <td>1</td>\n",
       "    </tr>\n",
       "    <tr>\n",
       "      <th>167</th>\n",
       "      <td>167</td>\n",
       "      <td>dawn05@tucker-brown.com</td>\n",
       "      <td>(089)703-7360x8848</td>\n",
       "      <td>lu4fgcug8dr0dwbcuui1</td>\n",
       "      <td>132.132.95.33</td>\n",
       "      <td>130 Kimberly Junctions\\nEricmouth, KS 59756-2919</td>\n",
       "      <td>0.466667</td>\n",
       "      <td>0.625</td>\n",
       "      <td>0.266667</td>\n",
       "      <td>False</td>\n",
       "      <td>0</td>\n",
       "    </tr>\n",
       "  </tbody>\n",
       "</table>\n",
       "<p>168 rows × 11 columns</p>\n",
       "</div>"
      ],
      "text/plain": [
       "     Unnamed: 0                    customerEmail        customerPhone  \\\n",
       "0             0           josephhoward@yahoo.com         400-108-5415   \n",
       "1             1           evansjeffery@yahoo.com       1-788-091-7546   \n",
       "2             2        andersonwilliam@yahoo.com         024.420.0375   \n",
       "3             3            rubenjuarez@yahoo.com   670.664.8168x94985   \n",
       "4             4                 uchen@malone.com       1-981-877-0870   \n",
       "..          ...                              ...                  ...   \n",
       "163         163  mitchellvickie@brewer-jones.com    313-124-3836x3528   \n",
       "164         164                sbrown@hughes.biz  (250)632-6631x02499   \n",
       "165         165             johnlowery@gmail.com     635.676.0955x524   \n",
       "166         166    ethompson@jackson-sanders.com         962.300.2250   \n",
       "167         167          dawn05@tucker-brown.com   (089)703-7360x8848   \n",
       "\n",
       "           customerDevice                        customerIPAddress  \\\n",
       "0    yyeiaxpltf82440jnb3v                             8.129.104.40   \n",
       "1    r0jpm7xaeqqa3kr6mzum                          219.173.211.202   \n",
       "2    4m7h5ipl1shyavt6vv2r  67b7:3db8:67e0:3bea:b9d0:90c1:2b60:b9f0   \n",
       "3    slovx60t0i558may4ks0  95de:8565:5a66:792c:26e0:6cfb:7d87:11af   \n",
       "4    j0pd24k5h8dl2fqu0cz4                           196.89.235.192   \n",
       "..                    ...                                      ...   \n",
       "163  ecu7ezz0ue67v3fce1o3                           181.90.104.120   \n",
       "164  xgv918sclaz40qlp2fee                               16.166.2.0   \n",
       "165  969zz9zdj8z4gns4sx5p   f82c:811f:8a02:e2d6:79b:fcaa:42de:570b   \n",
       "166  navessqcnmc9csfjn5cj                          203.246.172.244   \n",
       "167  lu4fgcug8dr0dwbcuui1                            132.132.95.33   \n",
       "\n",
       "                                customerBillingAddress  No_Transactions  \\\n",
       "0              5493 Jones Islands\\nBrownside, CA 51896         0.133333   \n",
       "1    356 Elizabeth Inlet Suite 120\\nPort Joshuabury...         0.200000   \n",
       "2       8478 Sean Ridges Apt. 441\\nDavisberg, PR 72250         0.333333   \n",
       "3    7769 Elizabeth Bridge Apt. 343\\nNortonstad, FM...         0.200000   \n",
       "4    148 Russell Lodge Apt. 445\\nPort Jenniferside,...         0.466667   \n",
       "..                                                 ...              ...   \n",
       "163  829 Ramirez Dam Suite 648\\nGatesview, OR 55669...         0.200000   \n",
       "164  9472 Pacheco Islands Suite 940\\nDrewburgh, AZ ...         0.400000   \n",
       "165           548 Bryant Inlet\\nVeronicaside, OK 00522         0.266667   \n",
       "166   16953 Jennifer Springs\\nKathybury, IL 02095-3215         0.533333   \n",
       "167   130 Kimberly Junctions\\nEricmouth, KS 59756-2919         0.466667   \n",
       "\n",
       "     No_Orders  No_Payments  Fraud  IsFraud  \n",
       "0        0.250     0.066667  False        0  \n",
       "1        0.375     0.466667   True        1  \n",
       "2        0.375     0.133333  False        0  \n",
       "3        0.375     0.066667  False        0  \n",
       "4        0.875     0.400000   True        1  \n",
       "..         ...          ...    ...      ...  \n",
       "163      0.375     0.066667   True        1  \n",
       "164      0.625     0.200000   True        1  \n",
       "165      0.500     0.133333   True        1  \n",
       "166      0.750     0.400000   True        1  \n",
       "167      0.625     0.266667  False        0  \n",
       "\n",
       "[168 rows x 11 columns]"
      ]
     },
     "execution_count": 110,
     "metadata": {},
     "output_type": "execute_result"
    }
   ],
   "source": [
    "df"
   ]
  },
  {
   "cell_type": "code",
   "execution_count": 111,
   "id": "85686e9a",
   "metadata": {},
   "outputs": [],
   "source": [
    "X = df[[\"No_Transactions\", \"No_Orders\", \"No_Payments\"]]\n",
    "y = df[\"IsFraud\"]\n",
    "\n",
    "X_train, X_test, y_train, y_test = train_test_split(X, y, test_size=0.3, random_state=10)"
   ]
  },
  {
   "cell_type": "code",
   "execution_count": 112,
   "id": "f09f2d4d",
   "metadata": {},
   "outputs": [],
   "source": [
    "KNN_Model = knn(n_neighbors=8)"
   ]
  },
  {
   "cell_type": "code",
   "execution_count": 113,
   "id": "3b48e23e",
   "metadata": {},
   "outputs": [
    {
     "data": {
      "text/plain": [
       "KNeighborsClassifier(n_neighbors=8)"
      ]
     },
     "execution_count": 113,
     "metadata": {},
     "output_type": "execute_result"
    }
   ],
   "source": [
    "KNN_Model.fit(X_train, y_train)"
   ]
  },
  {
   "cell_type": "code",
   "execution_count": 114,
   "id": "14411c92",
   "metadata": {},
   "outputs": [
    {
     "data": {
      "text/plain": [
       "array([0, 0, 0, 0, 0, 0, 0, 0, 1, 0, 0, 0, 0, 0, 0, 0, 0, 0, 0, 1, 0, 0,\n",
       "       0, 1, 0, 1, 1, 0, 0, 0, 0, 0, 1, 0, 1, 0, 0, 0, 0, 0, 0, 0, 0, 0,\n",
       "       0, 0, 0, 0, 0, 0, 0], dtype=int64)"
      ]
     },
     "execution_count": 114,
     "metadata": {},
     "output_type": "execute_result"
    }
   ],
   "source": [
    "y_predict = KNN_Model.predict(X_test)\n",
    "y_predict"
   ]
  },
  {
   "cell_type": "code",
   "execution_count": 115,
   "id": "69a57a31",
   "metadata": {},
   "outputs": [
    {
     "data": {
      "text/plain": [
       "76.47058823529412"
      ]
     },
     "execution_count": 115,
     "metadata": {},
     "output_type": "execute_result"
    }
   ],
   "source": [
    "metrics.accuracy_score(y_test, y_predict) * 100"
   ]
  }
 ],
 "metadata": {
  "kernelspec": {
   "display_name": "Python 3 (ipykernel)",
   "language": "python",
   "name": "python3"
  },
  "language_info": {
   "codemirror_mode": {
    "name": "ipython",
    "version": 3
   },
   "file_extension": ".py",
   "mimetype": "text/x-python",
   "name": "python",
   "nbconvert_exporter": "python",
   "pygments_lexer": "ipython3",
   "version": "3.10.3"
  }
 },
 "nbformat": 4,
 "nbformat_minor": 5
}
